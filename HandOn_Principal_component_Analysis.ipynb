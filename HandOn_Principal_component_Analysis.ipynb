{
 "cells": [
  {
   "cell_type": "markdown",
   "id": "aa8f4299",
   "metadata": {},
   "source": [
    "In this notebook, we will apply PCA as new features to enhance our model performance on Ames dataset, and detect outlier using PCA"
   ]
  },
  {
   "cell_type": "code",
   "execution_count": 5,
   "id": "fd1bb7ca",
   "metadata": {},
   "outputs": [],
   "source": [
    "#import essential libraries\n",
    "import matplotlib.pyplot as plt\n",
    "import numpy as np\n",
    "import pandas as pd\n",
    "import seaborn as sns\n",
    "from sklearn.decomposition import PCA\n",
    "from sklearn.feature_selection import mutual_info_regression\n",
    "from sklearn.model_selection import cross_val_score\n",
    "from xgboost import XGBRegressor\n",
    "\n",
    "#set Matplotlib defaults\n",
    "plt.style.use('seaborn-v0_8-whitegrid')\n",
    "plt.rc('figure', autolayout=True)\n",
    "plt.rc('axes',\n",
    "      labelweight='bold',\n",
    "      labelsize='large',\n",
    "      titleweight='bold',\n",
    "      titlesize=14,\n",
    "      titlepad=10,)\n",
    "\n",
    "def apply_pca(X, standardize=True):\n",
    "    #Standardize\n",
    "    if standardize:\n",
    "        X = (X - X.mean(axis=0)) / X.std(axis=0)\n",
    "    #create principal components\n",
    "    pca = PCA()\n",
    "    X_pca = pca.fit_transform(X)\n",
    "    #Convert to dataframe\n",
    "    component_names = [f\"PC{i+1}\" for i in range(X_pca.shape[1])]\n",
    "    x_pca = pd.DataFrame(X_pca, columns=component_names)\n",
    "    #create loadings\n",
    "    loadings = pd.DataFrame(pca.components_.T, #transpose the matrix of loadings\n",
    "                           columns=component_names, #columns are the pc names\n",
    "                           index=X.columns, #the rows are the original features\n",
    "                           )\n",
    "    return pca, X_pca, loadings\n",
    "\n",
    "\n",
    "def plot_variance(pca, width=8, dpi=100):\n",
    "    #create figure\n",
    "    fig, axs = plt.subplots(1, 2)\n",
    "    n = pca.n_components_\n",
    "    grid = np.arange(1, n+1)\n",
    "    #explained variance\n",
    "    evr = pca.explained_variance_ratio_\n",
    "    axs[0].bar(grid, evr)\n",
    "    axs[0].set(xlabel=\"Component\", title=\"% Explained Variance\", ylim=(0.0, 1.0))\n",
    "    #Cumulative Variance\n",
    "    cv = np.cumsum(evr)\n",
    "    axs[1].plot(np.r_[0, grid], np.r_[0, cv], \"o-\")\n",
    "    axs[1].set(xlabel=\"Component\", title=\"% Cumulative Variance\", ylim=(0.0, 1.0))\n",
    "    \n",
    "    fig.set(figwidth=8, dpi=100)\n",
    "    return axs\n",
    "\n"
   ]
  },
  {
   "cell_type": "code",
   "execution_count": null,
   "id": "1bd94e30",
   "metadata": {},
   "outputs": [],
   "source": []
  }
 ],
 "metadata": {
  "kernelspec": {
   "display_name": "pro_project",
   "language": "python",
   "name": "pro_project"
  },
  "language_info": {
   "codemirror_mode": {
    "name": "ipython",
    "version": 3
   },
   "file_extension": ".py",
   "mimetype": "text/x-python",
   "name": "python",
   "nbconvert_exporter": "python",
   "pygments_lexer": "ipython3",
   "version": "3.10.9"
  }
 },
 "nbformat": 4,
 "nbformat_minor": 5
}
