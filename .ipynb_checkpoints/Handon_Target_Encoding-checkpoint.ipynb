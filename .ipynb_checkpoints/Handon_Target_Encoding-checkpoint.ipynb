{
 "cells": [
  {
   "cell_type": "markdown",
   "id": "c76f4e04",
   "metadata": {},
   "source": [
    "Apply target encoding to fetures in the Ames dataset"
   ]
  },
  {
   "cell_type": "code",
   "execution_count": 3,
   "id": "4dd6c213",
   "metadata": {},
   "outputs": [],
   "source": [
    "#import essential libraries\n",
    "import matplotlib.pyplot as plt\n",
    "import numpy as np\n",
    "import pandas as pd\n",
    "import seaborn as sns\n",
    "import warnings\n",
    "from category_encoders import MEstimateEncoder\n",
    "from sklearn.model_selection import cross_val_score\n",
    "from xgboost import XGBRegressor\n",
    "\n",
    "#set matplotlib defaults\n",
    "plt.style.use('seaborn-v0_8-whitegrid')\n",
    "plt.rc('figure', autolayout=True)\n",
    "plt.rc('axes',\n",
    "      labelweight='bold',\n",
    "      labelsize='large',\n",
    "      titleweight='bold',\n",
    "      titlesize=14,\n",
    "      titlepad=10,)\n",
    "\n",
    "warnings.filterwarnings('ignore')\n",
    "\n",
    "#define model scoring\n",
    "def score_dataset(X, y, model=XGBRegressor()):\n",
    "    #Label encoding for categoricals\n",
    "    for colname in X.select_dtypes(['category', 'object']):\n",
    "        X[colname], _ = X[colname].factorize()\n",
    "    #Metric for Housing competition is RMSLE (Root Mean Squared Log Error)\n",
    "    score = cross_val_score(model,\n",
    "                            X, y, cv=5, scoring='neg_mean_squared_log_error')\n",
    "        \n",
    "    score = -1 * score.mean()\n",
    "    score = np.sqrt(score)\n",
    "    return score\n",
    "\n",
    "df = pd.read_csv('./data/house-prices-advanced-regression-techniques/ames.csv')"
   ]
  },
  {
   "cell_type": "code",
   "execution_count": 4,
   "id": "5bf162e1",
   "metadata": {},
   "outputs": [
    {
     "data": {
      "text/plain": [
       "MSSubClass       16\n",
       "MSZoning          7\n",
       "Street            2\n",
       "Alley             3\n",
       "LotShape          4\n",
       "LandContour       4\n",
       "Utilities         3\n",
       "LotConfig         5\n",
       "LandSlope         3\n",
       "Neighborhood     28\n",
       "Condition1        9\n",
       "Condition2        8\n",
       "BldgType          5\n",
       "HouseStyle        8\n",
       "OverallQual      10\n",
       "OverallCond       9\n",
       "RoofStyle         6\n",
       "RoofMatl          8\n",
       "Exterior1st      16\n",
       "Exterior2nd      17\n",
       "MasVnrType        5\n",
       "ExterQual         4\n",
       "ExterCond         5\n",
       "Foundation        6\n",
       "BsmtQual          6\n",
       "BsmtCond          6\n",
       "BsmtExposure      5\n",
       "BsmtFinType1      7\n",
       "BsmtFinType2      7\n",
       "Heating           6\n",
       "HeatingQC         5\n",
       "CentralAir        2\n",
       "Electrical        6\n",
       "KitchenQual       5\n",
       "Functional        8\n",
       "FireplaceQu       6\n",
       "GarageType        7\n",
       "GarageFinish      4\n",
       "GarageQual        6\n",
       "GarageCond        6\n",
       "PavedDrive        3\n",
       "PoolQC            5\n",
       "Fence             5\n",
       "MiscFeature       6\n",
       "SaleType         10\n",
       "SaleCondition     6\n",
       "dtype: int64"
      ]
     },
     "execution_count": 4,
     "metadata": {},
     "output_type": "execute_result"
    }
   ],
   "source": [
    "#see all categorical features, and chose the one with large number of categories are often good candidates\n",
    "df.select_dtypes(['object']).nunique()"
   ]
  },
  {
   "cell_type": "markdown",
   "id": "7a26713d",
   "metadata": {},
   "source": [
    "We need to consider the M-estimate encoding used to smoothing to improve estimates for rare categories. using value_counts to see how many time a category occurs in the dataset"
   ]
  },
  {
   "cell_type": "code",
   "execution_count": 6,
   "id": "a18f5e43",
   "metadata": {},
   "outputs": [
    {
     "data": {
      "text/plain": [
       "North_Ames                                 443\n",
       "College_Creek                              267\n",
       "Old_Town                                   239\n",
       "Edwards                                    194\n",
       "Somerset                                   182\n",
       "Northridge_Heights                         166\n",
       "Gilbert                                    165\n",
       "Sawyer                                     151\n",
       "Northwest_Ames                             131\n",
       "Sawyer_West                                125\n",
       "Mitchell                                   114\n",
       "Brookside                                  108\n",
       "Crawford                                   103\n",
       "Iowa_DOT_and_Rail_Road                      93\n",
       "Timberland                                  72\n",
       "Northridge                                  71\n",
       "Stone_Brook                                 51\n",
       "South_and_West_of_Iowa_State_University     48\n",
       "Clear_Creek                                 44\n",
       "Meadow_Village                              37\n",
       "Briardale                                   30\n",
       "Bloomington_Heights                         28\n",
       "Veenker                                     24\n",
       "Northpark_Villa                             23\n",
       "Blueste                                     10\n",
       "Greens                                       8\n",
       "Green_Hills                                  2\n",
       "Landmark                                     1\n",
       "Name: Neighborhood, dtype: int64"
      ]
     },
     "execution_count": 6,
     "metadata": {},
     "output_type": "execute_result"
    }
   ],
   "source": [
    "#As seen in the above section, we will work on Neighborhood features with largest number of categories\n",
    "df['Neighborhood'].value_counts()"
   ]
  },
  {
   "cell_type": "markdown",
   "id": "30d46e53",
   "metadata": {},
   "source": [
    "Others are worth to be considered are SaleType, MSSubClass, EXterior1st, Exterior2nd. In fact, almost any of the nominal features would be worth trying because of the prevalence of rare categories."
   ]
  },
  {
   "cell_type": "code",
   "execution_count": null,
   "id": "80916860",
   "metadata": {},
   "outputs": [],
   "source": []
  }
 ],
 "metadata": {
  "kernelspec": {
   "display_name": "pro_project",
   "language": "python",
   "name": "pro_project"
  },
  "language_info": {
   "codemirror_mode": {
    "name": "ipython",
    "version": 3
   },
   "file_extension": ".py",
   "mimetype": "text/x-python",
   "name": "python",
   "nbconvert_exporter": "python",
   "pygments_lexer": "ipython3",
   "version": "3.10.9"
  }
 },
 "nbformat": 4,
 "nbformat_minor": 5
}
