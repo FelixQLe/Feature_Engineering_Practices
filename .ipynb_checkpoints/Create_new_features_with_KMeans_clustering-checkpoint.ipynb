{
 "cells": [
  {
   "cell_type": "markdown",
   "id": "55dcb8ab",
   "metadata": {},
   "source": [
    "In this notebook, we will create features using k-means clustering"
   ]
  },
  {
   "cell_type": "code",
   "execution_count": 2,
   "id": "bf1b5fb3",
   "metadata": {},
   "outputs": [],
   "source": [
    "#Set up notebooks\n",
    "import matplotlib.pyplot as plt\n",
    "import numpy as np\n",
    "import pandas as pd\n",
    "import seaborn as sns\n",
    "from sklearn.cluster import KMeans\n",
    "from sklearn.model_selection import cross_val_score\n",
    "from xgboost import XGBRegressor\n",
    "\n",
    "#matplotlib style\n",
    "plt.style.use('seaborn-v0_8-whitegrid')\n",
    "plt.rc('figure', autolayout=True)\n",
    "plt.rc('axes',\n",
    "      labelweight='bold',\n",
    "      labelsize='large',\n",
    "      titleweight='bold',\n",
    "      titlesize=14,\n",
    "      titlepad=10)\n",
    "\n",
    "#score functions\n",
    "def score_dataset(X, y, model=XGBRegressor()):\n",
    "    #label encoding\n",
    "    for colname in X.select_dtypes(['category', 'object']):\n",
    "        X[colname], _ = X[colname].factorize()\n",
    "        #Metric for Housing competition is RMSLE (Root Mean Squared Log Error)\n",
    "        score = cross_val_score(\n",
    "        model, X, y, cv=5, scoring='neg_mean_squared_log_error')\n",
    "        \n",
    "        score = -1 * score.mean()\n",
    "        score = np.sqrt(score)\n",
    "        return score\n",
    "    \n",
    "#load dataset Ames\n",
    "df = pd.read_csv('./data/house-prices-advanced-regression-techniques/ames.csv')"
   ]
  },
  {
   "cell_type": "markdown",
   "id": "7ad08365",
   "metadata": {},
   "source": [
    "The k-means algorithm is sensitive to scale. This means we need to be thoughtful about how and whether rescale our features since we might get very different results depending on our choices. As a rule of thumb, if the features are already directly comparable (like a test result at different times), then we would not want rescale. On the other hand, faetures that arenot on comparable scales(like height and weight) will ussually benefit from rescaling. Sometimes, the choice won't be clear though. In that case, we should try to use common sense, remembering that faetures with larger values will be weighted more heavily."
   ]
  },
  {
   "cell_type": "markdown",
   "id": "47ce1def",
   "metadata": {},
   "source": [
    "#### 1. Scaling Features\n",
    "\n",
    "Consider"
   ]
  },
  {
   "cell_type": "code",
   "execution_count": null,
   "id": "a50d94fc",
   "metadata": {},
   "outputs": [],
   "source": []
  }
 ],
 "metadata": {
  "kernelspec": {
   "display_name": "pro_project",
   "language": "python",
   "name": "pro_project"
  },
  "language_info": {
   "codemirror_mode": {
    "name": "ipython",
    "version": 3
   },
   "file_extension": ".py",
   "mimetype": "text/x-python",
   "name": "python",
   "nbconvert_exporter": "python",
   "pygments_lexer": "ipython3",
   "version": "3.10.9"
  }
 },
 "nbformat": 4,
 "nbformat_minor": 5
}
