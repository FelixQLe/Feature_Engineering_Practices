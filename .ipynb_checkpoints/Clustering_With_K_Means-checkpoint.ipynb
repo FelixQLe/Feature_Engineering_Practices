{
 "cells": [
  {
   "cell_type": "markdown",
   "id": "1a98059e",
   "metadata": {},
   "source": [
    "### Introduction\n",
    "Unsupervised Learning Algorithms dont make use of a target, instead, their purpose is to learn some property of the data, to represent the structures of the features in a certain way. In the context of feature engineering for prediction, we could think of an unsupervised algorithm as a \"feature discovery\" technique.\n",
    "\n",
    "###### Clustering\n",
    "simply means the assigning of data points to groups based upon how similar the points are to each other. A clustering algorithm makes \"birds of a feather flock together,\" so to speak.\n",
    "\n",
    "When used for feature engineering, we could attempt to discover groups of customers representing a market segment, for instance, or geographic areas that share similar weather patterns. Adding a feature of cluster labels can help machine learning models untangle complicated relationships of space or proximity."
   ]
  },
  {
   "cell_type": "markdown",
   "id": "e18fd74e",
   "metadata": {},
   "source": [
    "### Cluster Labels as a Feature\n",
    "Applied to a single real-valued feature, clustering acts like a traditional \"binning\" or \"discretization\" transform. On multiple features, it's \"multi-dimensional binning\" (sometimes called vector quantization).\n",
    "\n",
    "The motivating idea for adding cluster labels is that the clusters will break up complicated relationships across features into simpler chunks. OUr model can then just learn the simpler chunks one-by-one instead having to learn the complicated whole all at once. It's \"divide and conquer\" strategy.\n",
    "\n",
    "<img src=\"https://i.imgur.com/rraXFed.png\" width=\"800\" height=\"400\">\n",
    "\n",
    "The figure shows how clustering can improve a simle linear model. The curved relationship between the YearBuilt and salePrice is too complicated for this kind of model -- it underfits. On smaller chunks however the relationship is almostlinear, and that the model can learn easily.\n",
    "\n"
   ]
  },
  {
   "cell_type": "markdown",
   "id": "77792e8c",
   "metadata": {},
   "source": [
    "### K-Means Clustering\n",
    "There are a great many clustering algorithms. They differ primarily in how they measure \"similarity\" or \"Proximity\" and in what kinds of features they work with. The algorithm we'll use, k-means, is intuitive and easy to apply in  feature engineering context. Depending on your application another algorithm might be more appropirate. \n",
    "\n"
   ]
  },
  {
   "cell_type": "code",
   "execution_count": null,
   "id": "4ccb245f",
   "metadata": {},
   "outputs": [],
   "source": []
  }
 ],
 "metadata": {
  "kernelspec": {
   "display_name": "python_3.11",
   "language": "python",
   "name": "python_3.11"
  },
  "language_info": {
   "codemirror_mode": {
    "name": "ipython",
    "version": 3
   },
   "file_extension": ".py",
   "mimetype": "text/x-python",
   "name": "python",
   "nbconvert_exporter": "python",
   "pygments_lexer": "ipython3",
   "version": "3.11.0"
  }
 },
 "nbformat": 4,
 "nbformat_minor": 5
}
