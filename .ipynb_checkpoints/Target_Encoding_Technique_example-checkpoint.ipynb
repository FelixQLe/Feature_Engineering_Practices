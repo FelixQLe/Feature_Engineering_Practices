{
 "cells": [
  {
   "cell_type": "markdown",
   "id": "e661bde5",
   "metadata": {},
   "source": [
    "In this repo, we will apply target encoding technique, is instead a method of encoding categories as numbers, like one-hot or label encoding, with difference  that it also uses the target to create the encoding. This makes it what we call a supervised feature engineering technique."
   ]
  },
  {
   "cell_type": "markdown",
   "id": "6bbf16db",
   "metadata": {},
   "source": [
    "#### Target Encoding\n",
    "is any kind of encoding that replaces a features's categories with some number derived from the target.\n",
    "\n",
    "* A simple and effective version is to apply a group aggregation from Lesson 3, like the mean"
   ]
  },
  {
   "cell_type": "code",
   "execution_count": null,
   "id": "c711d011",
   "metadata": {},
   "outputs": [],
   "source": [
    "#Using exmple of Automobiles dataset, compute the average price of each vehicle's make\n",
    "\n"
   ]
  }
 ],
 "metadata": {
  "kernelspec": {
   "display_name": "pro_project",
   "language": "python",
   "name": "pro_project"
  },
  "language_info": {
   "codemirror_mode": {
    "name": "ipython",
    "version": 3
   },
   "file_extension": ".py",
   "mimetype": "text/x-python",
   "name": "python",
   "nbconvert_exporter": "python",
   "pygments_lexer": "ipython3",
   "version": "3.10.9"
  }
 },
 "nbformat": 4,
 "nbformat_minor": 5
}
