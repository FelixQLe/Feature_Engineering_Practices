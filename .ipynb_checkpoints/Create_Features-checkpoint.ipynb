{
 "cells": [
  {
   "cell_type": "markdown",
   "id": "03c8b868",
   "metadata": {},
   "source": [
    "## Creating Featues\n",
    "along with good mi score feaures, there are good creating-interaction features, such as GrLiveArea and BldgType, we could use to create new features provides high informative set of features to train our model"
   ]
  },
  {
   "cell_type": "markdown",
   "id": "d1c93f46",
   "metadata": {},
   "source": [
    "### Tips to discover new features\n",
    "* Understand the features. Looking for dataset's data docs and discription if any available\n",
    "* Research the problem domain to acquire DOMAIN KNOWLEDGE. If the problem is predicting house prices, do some research on real-estate for instance. Books, journal articles are the best information source, then finally Wikipedia.\n",
    "* Study previous work. Online solutions are availble for some problems, we can use it. \n",
    "* Use data Visualization. Visualization can reveal pathologies in the distribution of a feature or complicated relationships that could be simplified.\n",
    "* Visualize the dataset wen we work through the feature engineering process"
   ]
  },
  {
   "cell_type": "markdown",
   "id": "ae332277",
   "metadata": {},
   "source": [
    "## Mathematical Transforms\n",
    "Relationships among numerical features are often expressed through mathematical formulas, which you'll frequently come across as part of your domain research. In Pandas, you can apply arithmetic operations to columns just as if they were ordinary numbers.\n",
    "\n",
    "In the Automobile dataset are features describing a car's engine. Research yields a variety of formulas for creating potentially useful new features. The \"stroke ratio\", for instance, is a measure of how efficient an engine is versus how performant:"
   ]
  },
  {
   "cell_type": "code",
   "execution_count": 3,
   "id": "f15dd667",
   "metadata": {},
   "outputs": [],
   "source": [
    "import matplotlib.pyplot as plt\n",
    "import numpy as np\n",
    "import pandas as pd\n",
    "import seaborn as sns\n",
    "\n",
    "#load df Auto\n",
    "df_Auto = pd.read_csv('./data/Automobile_data.csv')"
   ]
  },
  {
   "cell_type": "code",
   "execution_count": null,
   "id": "ac71d4d8",
   "metadata": {},
   "outputs": [],
   "source": []
  }
 ],
 "metadata": {
  "kernelspec": {
   "display_name": "pro_project",
   "language": "python",
   "name": "pro_project"
  },
  "language_info": {
   "codemirror_mode": {
    "name": "ipython",
    "version": 3
   },
   "file_extension": ".py",
   "mimetype": "text/x-python",
   "name": "python",
   "nbconvert_exporter": "python",
   "pygments_lexer": "ipython3",
   "version": "3.10.9"
  }
 },
 "nbformat": 4,
 "nbformat_minor": 5
}
