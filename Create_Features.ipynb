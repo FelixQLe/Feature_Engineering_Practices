{
 "cells": [
  {
   "cell_type": "markdown",
   "id": "03c8b868",
   "metadata": {},
   "source": [
    "## Creating Featues\n",
    "along with good mi score feaures, there are good creating-interaction features, such as GrLiveArea and BldgType, we could use to create new features provides high informative set of features to train our model"
   ]
  },
  {
   "cell_type": "markdown",
   "id": "d1c93f46",
   "metadata": {},
   "source": [
    "### Tips to discover new features\n",
    "* Understand the features. Looking for dataset's data docs and discription if any available\n",
    "* Research the problem domain to acquire DOMAIN KNOWLEDGE. If the problem is predicting house prices, do some research on real-estate for instance. Books, journal articles are the best information source, then finally Wikipedia.\n",
    "* Study previous work. Online solutions are availble for some problems, we can use it. \n",
    "* Use data Visualization. Visualization can reveal pathologies in the distribution of a feature or complicated relationships that could be simplified.\n",
    "* Visualize the dataset wen we work through the feature engineering process"
   ]
  },
  {
   "cell_type": "code",
   "execution_count": null,
   "id": "22d01c78",
   "metadata": {},
   "outputs": [],
   "source": []
  }
 ],
 "metadata": {
  "kernelspec": {
   "display_name": "pro_project",
   "language": "python",
   "name": "pro_project"
  },
  "language_info": {
   "codemirror_mode": {
    "name": "ipython",
    "version": 3
   },
   "file_extension": ".py",
   "mimetype": "text/x-python",
   "name": "python",
   "nbconvert_exporter": "python",
   "pygments_lexer": "ipython3",
   "version": "3.10.9"
  }
 },
 "nbformat": 4,
 "nbformat_minor": 5
}
