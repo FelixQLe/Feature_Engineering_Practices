{
 "cells": [
  {
   "cell_type": "markdown",
   "id": "187f7ab6",
   "metadata": {},
   "source": [
    "Principal Component Analysis (PCA), just like clustering is a partitioning of the dataset based on proximity, we could think of PCA as a partitioning of the variation in the data. PCA is a great tool to help us discover important relationships in the data and can also be used to create more informative features.\n",
    "\n",
    "* NOTE: PCA is typically applied to standardized data. With standardized data \"variation\" means \"correlation\". With unstandardized data \"variation\" means \"covariance\". "
   ]
  },
  {
   "cell_type": "markdown",
   "id": "617ab218",
   "metadata": {},
   "source": [
    "### Principal Component Analysis\n",
    "\n",
    "<img src=\"https://i.imgur.com/rr8NCDy.png\">\n",
    "\n"
   ]
  },
  {
   "cell_type": "code",
   "execution_count": null,
   "id": "1560e5c6",
   "metadata": {},
   "outputs": [],
   "source": []
  }
 ],
 "metadata": {
  "kernelspec": {
   "display_name": "pro_project",
   "language": "python",
   "name": "pro_project"
  },
  "language_info": {
   "codemirror_mode": {
    "name": "ipython",
    "version": 3
   },
   "file_extension": ".py",
   "mimetype": "text/x-python",
   "name": "python",
   "nbconvert_exporter": "python",
   "pygments_lexer": "ipython3",
   "version": "3.10.9"
  }
 },
 "nbformat": 4,
 "nbformat_minor": 5
}
