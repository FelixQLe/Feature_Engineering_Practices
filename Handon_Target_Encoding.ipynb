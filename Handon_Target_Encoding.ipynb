{
 "cells": [
  {
   "cell_type": "markdown",
   "id": "75b2103f",
   "metadata": {},
   "source": [
    "Apply target encoding to fetures in the Ames dataset"
   ]
  },
  {
   "cell_type": "code",
   "execution_count": 2,
   "id": "3eebb033",
   "metadata": {},
   "outputs": [],
   "source": [
    "#import essential libraries\n",
    "import matplotlib.pyplot as plt\n",
    "import numpy as np\n",
    "import pandas as pd\n",
    "import seaborn as sns\n",
    "import warnings\n",
    "from category_encoders import MEstimateEncoder\n",
    "from sklearn.model_selection import cross_val_score\n",
    "from xgboost import XGBRegressor\n",
    "\n",
    "#set matplotlib defaults\n",
    "plt.style.use('seaborn-v0_8-whitegrid')\n",
    "plt.rc('figure', autolayout=True)\n",
    "plt.rc('axes',\n",
    "      labelweight='bold',\n",
    "      labelsize='large',\n",
    "      titleweight='bold',\n",
    "      titlesize=14,\n",
    "      titlepad=10,)\n",
    "\n",
    "warnings.filterwarnings('ignore')\n",
    "\n",
    "#define model scoring\n",
    "def score_dataset()"
   ]
  },
  {
   "cell_type": "code",
   "execution_count": null,
   "id": "82002530",
   "metadata": {},
   "outputs": [],
   "source": []
  }
 ],
 "metadata": {
  "kernelspec": {
   "display_name": "pro_project",
   "language": "python",
   "name": "pro_project"
  },
  "language_info": {
   "codemirror_mode": {
    "name": "ipython",
    "version": 3
   },
   "file_extension": ".py",
   "mimetype": "text/x-python",
   "name": "python",
   "nbconvert_exporter": "python",
   "pygments_lexer": "ipython3",
   "version": "3.10.9"
  }
 },
 "nbformat": 4,
 "nbformat_minor": 5
}
