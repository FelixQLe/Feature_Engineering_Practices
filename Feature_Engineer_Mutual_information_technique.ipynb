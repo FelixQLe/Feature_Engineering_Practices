{
 "cells": [
  {
   "cell_type": "markdown",
   "id": "1a549242",
   "metadata": {},
   "source": [
    "### Mutual information technique\n",
    "\n",
    "Mutual information is a function metric(construct a ranking with a feature utility metric) measure relationship between a feature and the target. Then we can pick up smaller set of most useful features to develop our model, helping us more confidence that our time will spent on.\n",
    "\n",
    "Mutual information look alike with correlation in that it measures a relationship between two variables, however Mutual information technique detects any kind of relationship, while correlation only detects linear relationships.\n",
    "\n",
    "#### --------------------\n",
    "Mutual information is a great general-purpose metric and especially useful at the start of feature development when we might not know what model we'd like to use yet\n",
    "#### --------------------\n",
    "\n",
    "mutual information is easy to use and interpret, computationally efficient, theoretically well-founded, resistant to overfitting, and able to detect any kind of relationship\n",
    "\n",
    "### What mutual information measures?\n",
    "\n",
    "* Mutual Information(MI) describes relationships in term of uncertainty.\n",
    "* MI can help us to understand the relative potential of a feature as a predictor of the target\n",
    "* MI can not detect interactions between features. It is univariate metric. It is possible for a feature to be very informative when interacting with other features, but not so informative all alone.\n",
    "* The actual usefulness of a feature depends on the model we use it with. A feature is only useful to the exntent that its relationship with the target is one our model can learn. Just because a feature has a high MI score does not mean our model will be able to do anything with that information. We may need to transform the feature first to expose the relationship."
   ]
  },
  {
   "cell_type": "markdown",
   "id": "adca90f7",
   "metadata": {},
   "source": [
    "### Mutual Information on 1985 Automobiles, car's price prediction"
   ]
  },
  {
   "cell_type": "code",
   "execution_count": null,
   "id": "52503116",
   "metadata": {},
   "outputs": [],
   "source": [
    "import matplotlib.pyplot as plt\n",
    "import numpy as np\n",
    "import pandas as pd\n",
    "import searborn as sns\n",
    "\n",
    "plt"
   ]
  }
 ],
 "metadata": {
  "kernelspec": {
   "display_name": "pro_project",
   "language": "python",
   "name": "pro_project"
  },
  "language_info": {
   "codemirror_mode": {
    "name": "ipython",
    "version": 3
   },
   "file_extension": ".py",
   "mimetype": "text/x-python",
   "name": "python",
   "nbconvert_exporter": "python",
   "pygments_lexer": "ipython3",
   "version": "3.10.9"
  }
 },
 "nbformat": 4,
 "nbformat_minor": 5
}
