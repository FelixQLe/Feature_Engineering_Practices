{
 "cells": [
  {
   "cell_type": "markdown",
   "id": "4aedc871",
   "metadata": {},
   "source": [
    "### Mutual information technique\n",
    "\n",
    "Mutual information is a function metric(construct a ranking with a feature utility metric) measure relationship between a feature and the target. Then we can pick up smaller set of most useful features to develop our model, helping us more confidence that our time will spent on.\n",
    "\n",
    "Mutual information look alike with correlation in that it measures a relationship between two variables, however Mutual information technique detects any kind of relationship, while correlation only detects linear relationships.\n",
    "\n",
    "#### --------------------\n",
    "Mutual information is a great general-purpose metric and especially useful at the start of feature development when you might not know what model you'd like to use yet\n",
    "#### --------------------\n",
    "\n",
    "mutual information is easy to use and interpret, computationally efficient, theoretically well-founded, resistant to overfitting, and able to detect any kind of relationship\n",
    "\n",
    "### What mutual information measures?\n",
    "\n",
    "Mutual Information describes relationships in term of uncertainty. "
   ]
  },
  {
   "cell_type": "code",
   "execution_count": null,
   "id": "e9626247",
   "metadata": {},
   "outputs": [],
   "source": []
  }
 ],
 "metadata": {
  "kernelspec": {
   "display_name": "pro_project",
   "language": "python",
   "name": "pro_project"
  },
  "language_info": {
   "codemirror_mode": {
    "name": "ipython",
    "version": 3
   },
   "file_extension": ".py",
   "mimetype": "text/x-python",
   "name": "python",
   "nbconvert_exporter": "python",
   "pygments_lexer": "ipython3",
   "version": "3.10.9"
  }
 },
 "nbformat": 4,
 "nbformat_minor": 5
}
