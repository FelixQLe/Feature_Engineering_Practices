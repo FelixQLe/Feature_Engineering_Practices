{
 "cells": [
  {
   "cell_type": "markdown",
   "id": "55dcb8ab",
   "metadata": {},
   "source": [
    "In this notebook, we will create features using k-means clustering"
   ]
  },
  {
   "cell_type": "code",
   "execution_count": 1,
   "id": "bf1b5fb3",
   "metadata": {},
   "outputs": [],
   "source": [
    "#Set up notebooks\n",
    "import matplotlib.pyplot as plt\n",
    "import numpy as np\n",
    "import pandas as pd\n",
    "import seaborn as sns\n",
    "from sklearn.cluster import KMeans\n",
    "from sklearn.model_selection import cross_val_score\n",
    "from xgboost import XGBRegressor\n",
    "\n",
    "#matplotlib style\n",
    "plt.style.use('seaborn-v0_8-whitegrid')\n",
    "plt.rc('figure', autolayout=True)\n",
    "plt.rc('axes',\n",
    "      labelweight='bold',\n",
    "      labelsize='large',\n",
    "      titleweight='bold',\n",
    "      titlesize=14,\n",
    "      titlepad=10)\n",
    "\n",
    "#score functions\n",
    "def score_dataset(X, y, model=XGBRegressor()):\n",
    "    #label encoding\n",
    "    for colname in X.select_dtypes(['category', 'object']):\n",
    "        X[colname], _ = X[colname].factorize()\n",
    "        #Metric for Housing competition is RMSLE (Root Mean Squared Log Error)\n",
    "        score = cross_val_score(\n",
    "        model, X, y, cv=5, scoring='neg_mean_squared_log_error')\n",
    "        \n",
    "        score = -1 * score.mean()\n",
    "        score = np.sqrt(score)\n",
    "        return score\n",
    "    \n",
    "#load dataset Ames\n",
    "df = pd.read_csv('./data/house-prices-advanced-regression-techniques/ames.csv')"
   ]
  },
  {
   "cell_type": "markdown",
   "id": "7ad08365",
   "metadata": {},
   "source": [
    "The k-means algorithm is sensitive to scale. This means we need to be thoughtful about how and whether rescale our features since we might get very different results depending on our choices. As a rule of thumb, if the features are already directly comparable (like a test result at different times), then we would not want rescale. On the other hand, faetures that arenot on comparable scales(like height and weight) will ussually benefit from rescaling. Sometimes, the choice won't be clear though. In that case, we should try to use common sense, remembering that faetures with larger values will be weighted more heavily."
   ]
  },
  {
   "cell_type": "code",
   "execution_count": 6,
   "id": "7ac175c3",
   "metadata": {},
   "outputs": [
    {
     "data": {
      "text/plain": [
       "Index(['MSSubClass', 'MSZoning', 'LotFrontage', 'LotArea', 'Street', 'Alley',\n",
       "       'LotShape', 'LandContour', 'Utilities', 'LotConfig', 'LandSlope',\n",
       "       'Neighborhood', 'Condition1', 'Condition2', 'BldgType', 'HouseStyle',\n",
       "       'OverallQual', 'OverallCond', 'YearBuilt', 'YearRemodAdd', 'RoofStyle',\n",
       "       'RoofMatl', 'Exterior1st', 'Exterior2nd', 'MasVnrType', 'MasVnrArea',\n",
       "       'ExterQual', 'ExterCond', 'Foundation', 'BsmtQual', 'BsmtCond',\n",
       "       'BsmtExposure', 'BsmtFinType1', 'BsmtFinSF1', 'BsmtFinType2',\n",
       "       'BsmtFinSF2', 'BsmtUnfSF', 'TotalBsmtSF', 'Heating', 'HeatingQC',\n",
       "       'CentralAir', 'Electrical', 'FirstFlrSF', 'SecondFlrSF', 'LowQualFinSF',\n",
       "       'GrLivArea', 'BsmtFullBath', 'BsmtHalfBath', 'FullBath', 'HalfBath',\n",
       "       'BedroomAbvGr', 'KitchenAbvGr', 'KitchenQual', 'TotRmsAbvGrd',\n",
       "       'Functional', 'Fireplaces', 'FireplaceQu', 'GarageType', 'GarageFinish',\n",
       "       'GarageCars', 'GarageArea', 'GarageQual', 'GarageCond', 'PavedDrive',\n",
       "       'WoodDeckSF', 'OpenPorchSF', 'EnclosedPorch', 'Threeseasonporch',\n",
       "       'ScreenPorch', 'PoolArea', 'PoolQC', 'Fence', 'MiscFeature', 'MiscVal',\n",
       "       'MoSold', 'YearSold', 'SaleType', 'SaleCondition', 'SalePrice'],\n",
       "      dtype='object')"
      ]
     },
     "execution_count": 6,
     "metadata": {},
     "output_type": "execute_result"
    }
   ],
   "source": [
    "df.columns"
   ]
  },
  {
   "cell_type": "markdown",
   "id": "47ce1def",
   "metadata": {},
   "source": [
    "#### 1. Scaling Features\n",
    "\n",
    "Consider the following sets of features. For each, decide whether:\n",
    "* they definitely should be rescaled,\n",
    "* they definitely should not be rescaled or either might be reasonable\n",
    "\n",
    "Example of rescaling features or should not:\n",
    "1. Latitude and longitude of cities in California\n",
    " * This is natural distances described by Latitude and Longitude, we will skip off scaling\n",
    "2. Lot Area and Living Area of houses in Ames\n",
    " * Lot Area and Living Area are measured per square foot, the value on Lot Area are too much higher than in Living Area, we need to rescale these two features, so non of them weighted more than the others in the clustering, both effect on SalePrice. \n",
    "3. Number of Doors and Horsepower of a 1989 model car\n",
    " * their values can not be comparable, one is 2 or 4 doors, the another is hundreds usually, so we will rescale them\n",
    " \n",
    "For Scaling features, it will usually depend on some domain knowledge about data and what we are trying to predict.\n",
    " - Comparing different rescaling schemes through cross-validation can also be helpful.\n",
    " - checking out the preprocessing module in scikit-learn for some of the rescaling methods"
   ]
  },
  {
   "cell_type": "markdown",
   "id": "1eb51a76",
   "metadata": {},
   "source": [
    "#### 2. Create a Feture of Cluster labels\n",
    "creating a k-means clustering with the following parameters:\n",
    "* features: LotArea, TotalBsmtSF, FirstFlrSF, SecondFlrSF, GrLivArea\n",
    "* number of clusters 10\n",
    "* interations 10\n",
    "\n",
    "NOTE: for choosing k params in k-means cluster, we could use Methods such as, Elbow method or Silhouette Method"
   ]
  },
  {
   "cell_type": "code",
   "execution_count": null,
   "id": "0f387458",
   "metadata": {},
   "outputs": [],
   "source": []
  }
 ],
 "metadata": {
  "kernelspec": {
   "display_name": "pro_project",
   "language": "python",
   "name": "pro_project"
  },
  "language_info": {
   "codemirror_mode": {
    "name": "ipython",
    "version": 3
   },
   "file_extension": ".py",
   "mimetype": "text/x-python",
   "name": "python",
   "nbconvert_exporter": "python",
   "pygments_lexer": "ipython3",
   "version": "3.10.9"
  }
 },
 "nbformat": 4,
 "nbformat_minor": 5
}
